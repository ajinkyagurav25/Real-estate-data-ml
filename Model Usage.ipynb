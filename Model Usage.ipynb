{
 "cells": [
  {
   "cell_type": "code",
   "execution_count": 3,
   "id": "7c8a79e4-9f08-4687-a1a4-7f4a624b7b7c",
   "metadata": {},
   "outputs": [],
   "source": [
    "from joblib import dump, load\n",
    "import numpy as np\n",
    "model=load('Dragoan.joblib')\n",
    "features=np.array([([-5.43942006,  99.12628155, -1.12165014, -0.27288841, -1.42262747,\n",
    "       -0.24054622, -1.31238772,  8.61111401, -0.0016859 , -0.5778192 ,\n",
    "       -0.97491834,  0.41164221, -0.86091034])])\n",
    "model.predict(features)"
   ]
  },
  {
   "cell_type": "code",
   "execution_count": 13,
   "id": "f42690ce-1553-4f89-b51f-30e67bd51ed9",
   "metadata": {},
   "outputs": [
    {
     "data": {
      "text/plain": [
       "array([22.425])"
      ]
     },
     "execution_count": 13,
     "metadata": {},
     "output_type": "execute_result"
    }
   ],
   "source": [
    "features=np.array([([-5.43942006,  99.12628155, -1.12165014, -0.27288841, -1.42262747,\n",
    "       -0.24054622, -1.31238772,  8.61111401, -0.0016859 , -0.5778192 ,\n",
    "       -0.97491834,  0.41164221, -0.86091034])])\n",
    "model.predict(features)"
   ]
  },
  {
   "cell_type": "code",
   "execution_count": null,
   "id": "2e84b020-b805-4f9b-80e6-4f97a3721094",
   "metadata": {},
   "outputs": [],
   "source": []
  }
 ],
 "metadata": {
  "kernelspec": {
   "display_name": "Python 3 (ipykernel)",
   "language": "python",
   "name": "python3"
  },
  "language_info": {
   "codemirror_mode": {
    "name": "ipython",
    "version": 3
   },
   "file_extension": ".py",
   "mimetype": "text/x-python",
   "name": "python",
   "nbconvert_exporter": "python",
   "pygments_lexer": "ipython3",
   "version": "3.12.4"
  }
 },
 "nbformat": 4,
 "nbformat_minor": 5
}
