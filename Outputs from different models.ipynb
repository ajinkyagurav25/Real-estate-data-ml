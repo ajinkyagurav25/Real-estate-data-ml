{
 "cells": [
  {
   "cell_type": "markdown",
   "id": "4900bef2-4139-4f4e-af2a-4f06468c8d6a",
   "metadata": {},
   "source": [
    "Models outputs\n",
    "1.Decision Tree:\n",
    "Scores: [3.89630845 4.82902808 5.21774645 3.87367601 3.98722961 3.2280412\n",
    " 5.03058148 4.06589474 3.17820704 3.7733937 ]\n",
    "Mean: 4.108010676147965\n",
    "Standard deviation:  0.6685400852828047\n",
    "\n",
    "\n",
    "\n",
    "\n",
    "\n",
    "\n",
    "\n",
    "\n",
    "2.Linear Regression\n",
    "Mean: 4.108010676147965\n",
    "Standard deviation:  0.6685400852828047nd\n",
    "\n",
    "\n",
    "\n",
    "\n",
    "\n",
    "\n",
    "\n",
    "3.Random forest regression\n",
    "Mean: 3.29866908845088\n",
    "Standard deviation:  0.656441879792098\n",
    "\n",
    "\n"
   ]
  },
  {
   "cell_type": "code",
   "execution_count": null,
   "id": "64591eec-8ce2-45ba-b67d-73385512f30b",
   "metadata": {},
   "outputs": [],
   "source": []
  }
 ],
 "metadata": {
  "kernelspec": {
   "display_name": "Python 3 (ipykernel)",
   "language": "python",
   "name": "python3"
  },
  "language_info": {
   "codemirror_mode": {
    "name": "ipython",
    "version": 3
   },
   "file_extension": ".py",
   "mimetype": "text/x-python",
   "name": "python",
   "nbconvert_exporter": "python",
   "pygments_lexer": "ipython3",
   "version": "3.12.4"
  }
 },
 "nbformat": 4,
 "nbformat_minor": 5
}
